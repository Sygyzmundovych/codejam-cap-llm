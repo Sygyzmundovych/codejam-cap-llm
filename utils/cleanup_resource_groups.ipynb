{
 "cells": [
  {
   "cell_type": "code",
   "execution_count": 1,
   "id": "b8b61603",
   "metadata": {},
   "outputs": [],
   "source": [
    "from ai_core_sdk.ai_core_v2_client import AICoreV2Client"
   ]
  },
  {
   "cell_type": "code",
   "execution_count": 2,
   "id": "a1857f45",
   "metadata": {},
   "outputs": [],
   "source": [
    "client = AICoreV2Client.from_env()"
   ]
  },
  {
   "cell_type": "code",
   "execution_count": null,
   "id": "f9348532",
   "metadata": {},
   "outputs": [
    {
     "name": "stdout",
     "output_type": "stream",
     "text": [
      "Resources: [{Resource group id: YKHIL}, {Resource group id: SDZENISENIA}, {Resource group id: AKr}, {Resource group id: RJK}, {Resource group id: vld}, {Resource group id: vrutkous}, {Resource group id: vlutsas}, {Resource group id: MichalB1}, {Resource group id: DM-rg}, {Resource group id: KEN}, {Resource group id: test}, {Resource group id: NatalliaKrakow}, {Resource group id: default}, {Resource group id: CAP-AI-Codejam}, {Resource group id: vital}, {Resource group id: AKo}], Count: 16\n"
     ]
    }
   ],
   "source": [
    "resource_groups=client.resource_groups.query()\n",
    "print(resource_groups)"
   ]
  },
  {
   "cell_type": "code",
   "execution_count": 14,
   "id": "5a823db5",
   "metadata": {},
   "outputs": [
    {
     "name": "stdout",
     "output_type": "stream",
     "text": [
      "Deleting resource group YKHIL...\n",
      "Id: YKHIL, Message: Resource Group deletion scheduled\n",
      "Deleting resource group SDZENISENIA...\n",
      "Id: SDZENISENIA, Message: Resource Group deletion scheduled\n",
      "Deleting resource group AKr...\n",
      "Id: AKr, Message: Resource Group deletion scheduled\n",
      "Deleting resource group RJK...\n",
      "Id: RJK, Message: Resource Group deletion scheduled\n",
      "Deleting resource group vld...\n",
      "Id: vld, Message: Resource Group deletion scheduled\n",
      "Deleting resource group vrutkous...\n",
      "Id: vrutkous, Message: Resource Group deletion scheduled\n",
      "Deleting resource group vlutsas...\n",
      "Id: vlutsas, Message: Resource Group deletion scheduled\n",
      "Deleting resource group MichalB1...\n",
      "Id: MichalB1, Message: Resource Group deletion scheduled\n",
      "Deleting resource group DM-rg...\n",
      "Id: DM-rg, Message: Resource Group deletion scheduled\n",
      "Deleting resource group KEN...\n",
      "Id: KEN, Message: Resource Group deletion scheduled\n",
      "Skipping resource group test...\n",
      "Deleting resource group NatalliaKrakow...\n",
      "Id: NatalliaKrakow, Message: Resource Group deletion scheduled\n",
      "Skipping resource group default...\n",
      "Skipping resource group CAP-AI-Codejam...\n",
      "Skipping resource group vital...\n",
      "Deleting resource group AKo...\n",
      "Id: AKo, Message: Resource Group deletion scheduled\n"
     ]
    }
   ],
   "source": [
    "from datetime import datetime\n",
    "# Date of SAP CodeJam in Kraków on April 3, 2025\n",
    "date_of_event = datetime(2025, 4, 3).date()\n",
    "\n",
    "for res_gr in resource_groups.resources:\n",
    "    # print((res_gr.resource_group_id, res_gr.status, res_gr.created_at))\n",
    "    if res_gr.resource_group_id == \"defaut\" or res_gr.created_at.date() != date_of_event:\n",
    "        print(f\"Skipping resource group {res_gr.resource_group_id}...\")\n",
    "    else:\n",
    "        print(f\"Deleting resource group {res_gr.resource_group_id}...\")\n",
    "        msg = client.resource_groups.delete(resource_group_id=res_gr.resource_group_id)\n",
    "        print(msg)  \n"
   ]
  },
  {
   "cell_type": "code",
   "execution_count": null,
   "id": "d3c8118c",
   "metadata": {},
   "outputs": [
    {
     "name": "stdout",
     "output_type": "stream",
     "text": [
      "Resource group id: test\n",
      "Resource group id: default\n",
      "Resource group id: CAP-AI-Codejam\n",
      "Resource group id: vital\n"
     ]
    }
   ],
   "source": [
    "for res_gr in client.resource_groups.query().resources:\n",
    "    msg = client.resource_groups.get(resource_group_id=res_gr.resource_group_id)\n",
    "    print(msg)"
   ]
  },
  {
   "cell_type": "markdown",
   "id": "513badcd",
   "metadata": {},
   "source": [
    "## Deployments"
   ]
  },
  {
   "cell_type": "code",
   "execution_count": null,
   "id": "8e4b10b9",
   "metadata": {},
   "outputs": [],
   "source": [
    "deployments=client.deployment.query(resource_group=resource_groups.resources[0].resource_group_id)"
   ]
  },
  {
   "cell_type": "code",
   "execution_count": null,
   "id": "83ef3f10",
   "metadata": {},
   "outputs": [],
   "source": [
    "print(deployments)"
   ]
  },
  {
   "cell_type": "code",
   "execution_count": null,
   "id": "f4e62dcd",
   "metadata": {},
   "outputs": [],
   "source": [
    "deployment=deployments.resources[0]"
   ]
  },
  {
   "cell_type": "code",
   "execution_count": null,
   "id": "e1884099",
   "metadata": {},
   "outputs": [],
   "source": [
    "deployment.__dict__"
   ]
  },
  {
   "cell_type": "code",
   "execution_count": null,
   "id": "ec46ca95",
   "metadata": {},
   "outputs": [],
   "source": [
    "from ai_api_client_sdk.models.target_status import TargetStatus\n",
    "\n",
    "response=client.deployment.modify(\n",
    "    resource_group=resource_groups.resources[0].resource_group_id,\n",
    "    deployment_id=deployment.id,\n",
    "    target_status=TargetStatus.STOPPED\n",
    ")\n",
    "print(response)"
   ]
  },
  {
   "cell_type": "code",
   "execution_count": null,
   "id": "3b8fed9a",
   "metadata": {},
   "outputs": [],
   "source": [
    "for deployment in deployments.resources:\n",
    "    print(f\"Was: {(deployment.id, deployment.status, deployment.target_status)}\")\n",
    "    deployment_status=client.deployment.get(deployment_id=deployment.id, resource_group=resource_groups.resources[0].resource_group_id)\n",
    "    print(f\"Now: {(deployment_status.id, deployment_status.status, deployment_status.target_status)}\")"
   ]
  },
  {
   "cell_type": "code",
   "execution_count": null,
   "id": "7ab85c54",
   "metadata": {},
   "outputs": [],
   "source": [
    "response=client.deployment.delete(\n",
    "    resource_group=resource_groups.resources[0].resource_group_id,\n",
    "    deployment_id=deployment.id\n",
    ")\n",
    "print(response)"
   ]
  },
  {
   "cell_type": "code",
   "execution_count": null,
   "id": "f1771f86",
   "metadata": {},
   "outputs": [],
   "source": []
  }
 ],
 "metadata": {
  "kernelspec": {
   "display_name": ".venv",
   "language": "python",
   "name": "python3"
  },
  "language_info": {
   "codemirror_mode": {
    "name": "ipython",
    "version": 3
   },
   "file_extension": ".py",
   "mimetype": "text/x-python",
   "name": "python",
   "nbconvert_exporter": "python",
   "pygments_lexer": "ipython3",
   "version": "3.12.9"
  }
 },
 "nbformat": 4,
 "nbformat_minor": 5
}
