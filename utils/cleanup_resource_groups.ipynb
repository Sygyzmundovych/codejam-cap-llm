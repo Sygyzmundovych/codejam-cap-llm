{
 "cells": [
  {
   "cell_type": "code",
   "execution_count": 1,
   "id": "b8b61603",
   "metadata": {},
   "outputs": [],
   "source": [
    "from ai_core_sdk.ai_core_v2_client import AICoreV2Client"
   ]
  },
  {
   "cell_type": "code",
   "execution_count": 11,
   "id": "a1857f45",
   "metadata": {},
   "outputs": [],
   "source": [
    "client = AICoreV2Client.from_env()"
   ]
  },
  {
   "cell_type": "code",
   "execution_count": 19,
   "id": "f9348532",
   "metadata": {},
   "outputs": [
    {
     "name": "stdout",
     "output_type": "stream",
     "text": [
      "Resources: [{Resource group id: YKHIL}, {Resource group id: SDZENISENIA}, {Resource group id: AKr}, {Resource group id: RJK}, {Resource group id: vld}, {Resource group id: vrutkous}, {Resource group id: vlutsas}, {Resource group id: MichalB1}, {Resource group id: DM-rg}, {Resource group id: KEN}, {Resource group id: test}, {Resource group id: NatalliaKrakow}, {Resource group id: default}, {Resource group id: vital}, {Resource group id: AKo}, {Resource group id: zradziejowski}], Count: 16\n"
     ]
    }
   ],
   "source": [
    "resource_groups=client.resource_groups.query()\n",
    "print(resource_groups)"
   ]
  },
  {
   "cell_type": "code",
   "execution_count": null,
   "id": "5a823db5",
   "metadata": {},
   "outputs": [
    {
     "name": "stdout",
     "output_type": "stream",
     "text": [
      "YKHIL PROVISIONED 2025-04-03 09:47:29+00:00\n",
      "SDZENISENIA PROVISIONED 2025-04-03 09:49:47+00:00\n",
      "AKr PROVISIONED 2025-04-03 09:17:44+00:00\n",
      "RJK PROVISIONED 2025-04-03 09:56:02+00:00\n",
      "vld PROVISIONED 2025-04-03 09:56:17+00:00\n",
      "vrutkous PROVISIONED 2025-04-03 09:50:14+00:00\n",
      "vlutsas PROVISIONED 2025-04-03 09:50:59+00:00\n",
      "MichalB1 PROVISIONED 2025-04-03 09:44:52+00:00\n",
      "DM-rg PROVISIONED 2025-04-03 09:37:58+00:00\n",
      "KEN PROVISIONED 2025-04-03 09:32:28+00:00\n",
      "test PROVISIONED 2025-03-26 22:50:03+00:00\n",
      "NatalliaKrakow PROVISIONED 2025-04-03 09:55:05+00:00\n",
      "default PROVISIONED 2024-07-09 17:18:20+00:00\n",
      "vital PROVISIONED 2025-04-02 13:02:20+00:00\n",
      "AKo PROVISIONED 2025-04-03 09:45:34+00:00\n",
      "zradziejowski PROVISIONED 2025-04-03 09:11:13+00:00\n"
     ]
    }
   ],
   "source": [
    "for res_gr in resource_groups.resources:\n",
    "    print(res_gr.resource_group_id, res_gr.status, res_gr.created_at)"
   ]
  },
  {
   "cell_type": "code",
   "execution_count": 33,
   "id": "8e4b10b9",
   "metadata": {},
   "outputs": [],
   "source": [
    "deployments=client.deployment.query(resource_group=resource_groups.resources[0].resource_group_id)"
   ]
  },
  {
   "cell_type": "code",
   "execution_count": 34,
   "id": "83ef3f10",
   "metadata": {},
   "outputs": [
    {
     "name": "stdout",
     "output_type": "stream",
     "text": [
      "Resources: [{Deployment id: d24e501d5f5f6d12}, {Deployment id: dad451527f695dc6}], Count: 2\n"
     ]
    }
   ],
   "source": [
    "print(deployments)"
   ]
  },
  {
   "cell_type": "code",
   "execution_count": 57,
   "id": "f4e62dcd",
   "metadata": {},
   "outputs": [],
   "source": [
    "deployment=deployments.resources[0]"
   ]
  },
  {
   "cell_type": "code",
   "execution_count": 61,
   "id": "e1884099",
   "metadata": {},
   "outputs": [
    {
     "data": {
      "text/plain": [
       "{'id': 'd24e501d5f5f6d12',\n",
       " 'configuration_id': 'd4c8f9a4-07d8-48ae-9d7d-27f88c302f05',\n",
       " 'configuration_name': 'ykhil_text-embedding-3-small',\n",
       " 'scenario_id': 'foundation-models',\n",
       " 'status': <Status.RUNNING: 'RUNNING'>,\n",
       " 'target_status': <TargetStatus.RUNNING: 'RUNNING'>,\n",
       " 'created_at': datetime.datetime(2025, 4, 3, 10, 4, 13, tzinfo=datetime.timezone.utc),\n",
       " 'modified_at': datetime.datetime(2025, 4, 8, 17, 24, 5, tzinfo=datetime.timezone.utc),\n",
       " 'status_message': None,\n",
       " 'status_details': None,\n",
       " 'submission_time': datetime.datetime(2025, 4, 3, 10, 5, 24, tzinfo=datetime.timezone.utc),\n",
       " 'start_time': datetime.datetime(2025, 4, 3, 10, 6, 29, tzinfo=datetime.timezone.utc),\n",
       " 'completion_time': None,\n",
       " 'deployment_url': 'https://api.ai.prod.us-east-1.aws.ml.hana.ondemand.com/v2/inference/deployments/d24e501d5f5f6d12',\n",
       " 'last_operation': <Operation.CREATE: 'CREATE'>,\n",
       " 'latest_running_configuration_id': 'd4c8f9a4-07d8-48ae-9d7d-27f88c302f05',\n",
       " 'details': {'resources': {'backend_details': {'model': {'name': 'text-embedding-3-small',\n",
       "     'version': 'latest'}}},\n",
       "  'scaling': {'backend_details': {}}},\n",
       " 'ttl': None}"
      ]
     },
     "execution_count": 61,
     "metadata": {},
     "output_type": "execute_result"
    }
   ],
   "source": [
    "deployment.__dict__"
   ]
  },
  {
   "cell_type": "code",
   "execution_count": 69,
   "id": "ec46ca95",
   "metadata": {},
   "outputs": [
    {
     "name": "stdout",
     "output_type": "stream",
     "text": [
      "Id: d24e501d5f5f6d12, Message: Deployment modification scheduled\n"
     ]
    }
   ],
   "source": [
    "from ai_api_client_sdk.models.target_status import TargetStatus\n",
    "\n",
    "response=client.deployment.modify(\n",
    "    resource_group=resource_groups.resources[0].resource_group_id,\n",
    "    deployment_id=deployment.id,\n",
    "    target_status=TargetStatus.STOPPED\n",
    ")\n",
    "print(response)"
   ]
  },
  {
   "cell_type": "code",
   "execution_count": null,
   "id": "3b8fed9a",
   "metadata": {},
   "outputs": [
    {
     "name": "stdout",
     "output_type": "stream",
     "text": [
      "Was: ('d24e501d5f5f6d12', <Status.RUNNING: 'RUNNING'>, <TargetStatus.RUNNING: 'RUNNING'>)\n",
      "Now: ('d24e501d5f5f6d12', <Status.RUNNING: 'RUNNING'>, <TargetStatus.STOPPED: 'STOPPED'>)\n",
      "Was: ('dad451527f695dc6', <Status.RUNNING: 'RUNNING'>, <TargetStatus.RUNNING: 'RUNNING'>)\n",
      "Now: ('dad451527f695dc6', <Status.RUNNING: 'RUNNING'>, <TargetStatus.RUNNING: 'RUNNING'>)\n"
     ]
    }
   ],
   "source": [
    "for deployment in deployments.resources:\n",
    "    print(f\"Was: {(deployment.id, deployment.status, deployment.target_status)}\")\n",
    "    deployment_status=client.deployment.get(deployment_id=deployment.id, resource_group=resource_groups.resources[0].resource_group_id)\n",
    "    print(f\"Now: {(deployment_status.id, deployment_status.status, deployment_status.target_status)}\")"
   ]
  },
  {
   "cell_type": "code",
   "execution_count": 70,
   "id": "7ab85c54",
   "metadata": {},
   "outputs": [
    {
     "ename": "AIAPIPreconditionFailedException",
     "evalue": "Failed to delete /deployments/d24e501d5f5f6d12: Precondition Failed, Execution or deployment d24e501d5f5f6d12 is not in a terminated state. Please stop the execution or deployment and try again.. \n Status Code: 412, Request ID:979a5734-0152-428c-b897-6886c706ca2e",
     "output_type": "error",
     "traceback": [
      "\u001b[31m---------------------------------------------------------------------------\u001b[39m",
      "\u001b[31mAIAPIPreconditionFailedException\u001b[39m          Traceback (most recent call last)",
      "\u001b[36mCell\u001b[39m\u001b[36m \u001b[39m\u001b[32mIn[70]\u001b[39m\u001b[32m, line 1\u001b[39m\n\u001b[32m----> \u001b[39m\u001b[32m1\u001b[39m response=\u001b[43mclient\u001b[49m\u001b[43m.\u001b[49m\u001b[43mdeployment\u001b[49m\u001b[43m.\u001b[49m\u001b[43mdelete\u001b[49m\u001b[43m(\u001b[49m\n\u001b[32m      2\u001b[39m \u001b[43m    \u001b[49m\u001b[43mresource_group\u001b[49m\u001b[43m=\u001b[49m\u001b[43mresource_groups\u001b[49m\u001b[43m.\u001b[49m\u001b[43mresources\u001b[49m\u001b[43m[\u001b[49m\u001b[32;43m0\u001b[39;49m\u001b[43m]\u001b[49m\u001b[43m.\u001b[49m\u001b[43mresource_group_id\u001b[49m\u001b[43m,\u001b[49m\n\u001b[32m      3\u001b[39m \u001b[43m    \u001b[49m\u001b[43mdeployment_id\u001b[49m\u001b[43m=\u001b[49m\u001b[43mdeployment\u001b[49m\u001b[43m.\u001b[49m\u001b[43mid\u001b[49m\n\u001b[32m      4\u001b[39m \u001b[43m)\u001b[49m\n\u001b[32m      5\u001b[39m \u001b[38;5;28mprint\u001b[39m(response)\n",
      "\u001b[36mFile \u001b[39m\u001b[32m~/ProjectsLocal/GitHub/codejam-cap-llm/.venv/lib/python3.12/site-packages/ai_api_client_sdk/resource_clients/deployment_client.py:73\u001b[39m, in \u001b[36mDeploymentClient.delete\u001b[39m\u001b[34m(self, deployment_id, resource_group)\u001b[39m\n\u001b[32m     51\u001b[39m \u001b[38;5;28;01mdef\u001b[39;00m\u001b[38;5;250m \u001b[39m\u001b[34mdelete\u001b[39m(\u001b[38;5;28mself\u001b[39m, deployment_id: \u001b[38;5;28mstr\u001b[39m, resource_group: \u001b[38;5;28mstr\u001b[39m = \u001b[38;5;28;01mNone\u001b[39;00m) -> BasicResponse:\n\u001b[32m     52\u001b[39m \u001b[38;5;250m    \u001b[39m\u001b[33;03m\"\"\"Deletes the deployment.\u001b[39;00m\n\u001b[32m     53\u001b[39m \n\u001b[32m     54\u001b[39m \u001b[33;03m    :param deployment_id: ID of the deployment to be deleted\u001b[39;00m\n\u001b[32m   (...)\u001b[39m\u001b[32m     71\u001b[39m \u001b[33;03m    :rtype: class:`ai_api_client_sdk.models.base_models.BasicResponse`\u001b[39;00m\n\u001b[32m     72\u001b[39m \u001b[33;03m    \"\"\"\u001b[39;00m\n\u001b[32m---> \u001b[39m\u001b[32m73\u001b[39m     response_dict = \u001b[38;5;28;43mself\u001b[39;49m\u001b[43m.\u001b[49m\u001b[43mrest_client\u001b[49m\u001b[43m.\u001b[49m\u001b[43mdelete\u001b[49m\u001b[43m(\u001b[49m\u001b[33;43mf\u001b[39;49m\u001b[33;43m'\u001b[39;49m\u001b[33;43m/deployments/\u001b[39;49m\u001b[38;5;132;43;01m{\u001b[39;49;00m\u001b[43mdeployment_id\u001b[49m\u001b[38;5;132;43;01m}\u001b[39;49;00m\u001b[33;43m'\u001b[39;49m\u001b[43m,\u001b[49m\u001b[43m \u001b[49m\u001b[43mresource_group\u001b[49m\u001b[43m=\u001b[49m\u001b[43mresource_group\u001b[49m\u001b[43m)\u001b[49m\n\u001b[32m     74\u001b[39m     \u001b[38;5;28;01mreturn\u001b[39;00m BasicResponse.from_dict(response_dict)\n",
      "\u001b[36mFile \u001b[39m\u001b[32m~/ProjectsLocal/GitHub/codejam-cap-llm/.venv/lib/python3.12/site-packages/ai_api_client_sdk/helpers/rest_client.py:258\u001b[39m, in \u001b[36mRestClient.delete\u001b[39m\u001b[34m(self, path, params, headers, resource_group, **kwargs)\u001b[39m\n\u001b[32m    230\u001b[39m \u001b[38;5;28;01mdef\u001b[39;00m\u001b[38;5;250m \u001b[39m\u001b[34mdelete\u001b[39m(\u001b[38;5;28mself\u001b[39m, path: \u001b[38;5;28mstr\u001b[39m, params: Dict[\u001b[38;5;28mstr\u001b[39m, \u001b[38;5;28mstr\u001b[39m] = \u001b[38;5;28;01mNone\u001b[39;00m, headers: Dict[\u001b[38;5;28mstr\u001b[39m, \u001b[38;5;28mstr\u001b[39m] = \u001b[38;5;28;01mNone\u001b[39;00m,\n\u001b[32m    231\u001b[39m            resource_group: \u001b[38;5;28mstr\u001b[39m = \u001b[38;5;28;01mNone\u001b[39;00m, **kwargs) -> \u001b[38;5;28mdict\u001b[39m:\n\u001b[32m    232\u001b[39m \u001b[38;5;250m    \u001b[39m\u001b[33;03m\"\"\"Sends a DELETE request to the server.\u001b[39;00m\n\u001b[32m    233\u001b[39m \n\u001b[32m    234\u001b[39m \u001b[33;03m    :param path: path of the endpoint the request should be sent to\u001b[39;00m\n\u001b[32m   (...)\u001b[39m\u001b[32m    256\u001b[39m \u001b[33;03m    :rtype: dict\u001b[39;00m\n\u001b[32m    257\u001b[39m \u001b[33;03m    \"\"\"\u001b[39;00m\n\u001b[32m--> \u001b[39m\u001b[32m258\u001b[39m     \u001b[38;5;28;01mreturn\u001b[39;00m \u001b[38;5;28;43mself\u001b[39;49m\u001b[43m.\u001b[49m\u001b[43m_handle_request\u001b[49m\u001b[43m(\u001b[49m\u001b[33;43m'\u001b[39;49m\u001b[33;43mdelete\u001b[39;49m\u001b[33;43m'\u001b[39;49m\u001b[43m,\u001b[49m\u001b[43m \u001b[49m\u001b[43mpath\u001b[49m\u001b[43m=\u001b[49m\u001b[43mpath\u001b[49m\u001b[43m,\u001b[49m\u001b[43m \u001b[49m\u001b[43mparams\u001b[49m\u001b[43m=\u001b[49m\u001b[43mparams\u001b[49m\u001b[43m,\u001b[49m\u001b[43m \u001b[49m\u001b[43mheaders\u001b[49m\u001b[43m=\u001b[49m\u001b[43mheaders\u001b[49m\u001b[43m,\u001b[49m\n\u001b[32m    259\u001b[39m \u001b[43m                                \u001b[49m\u001b[43mresource_group\u001b[49m\u001b[43m=\u001b[49m\u001b[43mresource_group\u001b[49m\u001b[43m,\u001b[49m\u001b[43m \u001b[49m\u001b[43m*\u001b[49m\u001b[43m*\u001b[49m\u001b[43mkwargs\u001b[49m\u001b[43m)\u001b[49m\n",
      "\u001b[36mFile \u001b[39m\u001b[32m~/ProjectsLocal/GitHub/codejam-cap-llm/.venv/lib/python3.12/site-packages/ai_api_client_sdk/helpers/rest_client.py:104\u001b[39m, in \u001b[36mRestClient._handle_request\u001b[39m\u001b[34m(self, method, path, params, body_json, headers, resource_group, return_bytes_content, **kwargs)\u001b[39m\n\u001b[32m    101\u001b[39m     response_json = response.text\n\u001b[32m    103\u001b[39m \u001b[38;5;28;01mif\u001b[39;00m \u001b[38;5;28mtype\u001b[39m(response_json) \u001b[38;5;129;01mis\u001b[39;00m \u001b[38;5;28mdict\u001b[39m \u001b[38;5;129;01mand\u001b[39;00m \u001b[33m'\u001b[39m\u001b[33merror\u001b[39m\u001b[33m'\u001b[39m \u001b[38;5;129;01min\u001b[39;00m response_json:\n\u001b[32m--> \u001b[39m\u001b[32m104\u001b[39m     \u001b[38;5;28;43mself\u001b[39;49m\u001b[43m.\u001b[49m\u001b[43mraise_ai_api_exception\u001b[49m\u001b[43m(\u001b[49m\u001b[43merror_description\u001b[49m\u001b[43m,\u001b[49m\u001b[43m \u001b[49m\u001b[43mresponse\u001b[49m\u001b[43m,\u001b[49m\u001b[43m \u001b[49m\u001b[43mresponse_json\u001b[49m\u001b[43m)\u001b[49m\n\u001b[32m    105\u001b[39m \u001b[38;5;28;01melif\u001b[39;00m response.status_code // \u001b[32m100\u001b[39m != \u001b[32m2\u001b[39m:\n\u001b[32m    106\u001b[39m     \u001b[38;5;28;01mraise\u001b[39;00m AIAPIServerException(description=error_description, error_message=response.text,\n\u001b[32m    107\u001b[39m                                status_code=response.status_code)\n",
      "\u001b[36mFile \u001b[39m\u001b[32m~/ProjectsLocal/GitHub/codejam-cap-llm/.venv/lib/python3.12/site-packages/ai_api_client_sdk/helpers/rest_client.py:127\u001b[39m, in \u001b[36mRestClient.raise_ai_api_exception\u001b[39m\u001b[34m(error_description, response, response_json)\u001b[39m\n\u001b[32m    124\u001b[39m     \u001b[38;5;28;01mraise\u001b[39;00m AIAPINotFoundException(description=error_description, error_message=error_message,\n\u001b[32m    125\u001b[39m                                  error_code=error_code, request_id=request_id, details=error_details)\n\u001b[32m    126\u001b[39m \u001b[38;5;28;01melif\u001b[39;00m status_code == \u001b[32m412\u001b[39m:\n\u001b[32m--> \u001b[39m\u001b[32m127\u001b[39m     \u001b[38;5;28;01mraise\u001b[39;00m AIAPIPreconditionFailedException(description=error_description, error_message=error_message,\n\u001b[32m    128\u001b[39m                                            error_code=error_code, request_id=request_id,\n\u001b[32m    129\u001b[39m                                            details=error_details)\n\u001b[32m    130\u001b[39m \u001b[38;5;28;01melse\u001b[39;00m:\n\u001b[32m    131\u001b[39m     \u001b[38;5;28;01mraise\u001b[39;00m AIAPIServerException(status_code=status_code, description=error_description,\n\u001b[32m    132\u001b[39m                                error_message=error_message, error_code=error_code, request_id=request_id,\n\u001b[32m    133\u001b[39m                                details=error_details)\n",
      "\u001b[31mAIAPIPreconditionFailedException\u001b[39m: Failed to delete /deployments/d24e501d5f5f6d12: Precondition Failed, Execution or deployment d24e501d5f5f6d12 is not in a terminated state. Please stop the execution or deployment and try again.. \n Status Code: 412, Request ID:979a5734-0152-428c-b897-6886c706ca2e"
     ]
    }
   ],
   "source": [
    "response=client.deployment.delete(\n",
    "    resource_group=resource_groups.resources[0].resource_group_id,\n",
    "    deployment_id=deployment.id\n",
    ")\n",
    "print(response)"
   ]
  },
  {
   "cell_type": "code",
   "execution_count": 83,
   "id": "760ae684",
   "metadata": {},
   "outputs": [
    {
     "name": "stdout",
     "output_type": "stream",
     "text": [
      "Id: zradziejowski, Message: Resource Group deletion scheduled\n"
     ]
    }
   ],
   "source": [
    "response=client.resource_groups.delete(\n",
    "    resource_group_id=resource_groups.resources[-1].resource_group_id\n",
    ")\n",
    "print(response)"
   ]
  },
  {
   "cell_type": "code",
   "execution_count": 86,
   "id": "3ab598fc",
   "metadata": {},
   "outputs": [
    {
     "ename": "AIAPINotFoundException",
     "evalue": "Failed to get /admin/resourceGroups/zradziejowski: ResourceGroup 'zradziejowski' not found \n Status Code: 404, Request ID:None",
     "output_type": "error",
     "traceback": [
      "\u001b[31m---------------------------------------------------------------------------\u001b[39m",
      "\u001b[31mAIAPINotFoundException\u001b[39m                    Traceback (most recent call last)",
      "\u001b[36mCell\u001b[39m\u001b[36m \u001b[39m\u001b[32mIn[86]\u001b[39m\u001b[32m, line 1\u001b[39m\n\u001b[32m----> \u001b[39m\u001b[32m1\u001b[39m res_gr_status=\u001b[43mclient\u001b[49m\u001b[43m.\u001b[49m\u001b[43mresource_groups\u001b[49m\u001b[43m.\u001b[49m\u001b[43mget\u001b[49m\u001b[43m(\u001b[49m\n\u001b[32m      2\u001b[39m \u001b[43m    \u001b[49m\u001b[43mresource_group_id\u001b[49m\u001b[43m=\u001b[49m\u001b[43mresource_groups\u001b[49m\u001b[43m.\u001b[49m\u001b[43mresources\u001b[49m\u001b[43m[\u001b[49m\u001b[43m-\u001b[49m\u001b[32;43m1\u001b[39;49m\u001b[43m]\u001b[49m\u001b[43m.\u001b[49m\u001b[43mresource_group_id\u001b[49m\n\u001b[32m      3\u001b[39m \u001b[43m)\u001b[49m\n",
      "\u001b[36mFile \u001b[39m\u001b[32m~/ProjectsLocal/GitHub/codejam-cap-llm/.venv/lib/python3.12/site-packages/ai_api_client_sdk/resource_clients/resource_groups_client.py:80\u001b[39m, in \u001b[36mResourceGroupsClient.get\u001b[39m\u001b[34m(self, resource_group_id)\u001b[39m\n\u001b[32m     64\u001b[39m \u001b[38;5;28;01mdef\u001b[39;00m\u001b[38;5;250m \u001b[39m\u001b[34mget\u001b[39m(\u001b[38;5;28mself\u001b[39m, resource_group_id: \u001b[38;5;28mstr\u001b[39m) -> ResourceGroup:\n\u001b[32m     65\u001b[39m \u001b[38;5;250m    \u001b[39m\u001b[33;03m\"\"\"Gets a resource group of a given tenant.\u001b[39;00m\n\u001b[32m     66\u001b[39m \n\u001b[32m     67\u001b[39m \u001b[33;03m    :param resource_group_id: the id of the resource group to be retrieved\u001b[39;00m\n\u001b[32m   (...)\u001b[39m\u001b[32m     78\u001b[39m \u001b[33;03m    :rtype: class:`ai_core_sdk.models.resource_group.ResourceGroup`\u001b[39;00m\n\u001b[32m     79\u001b[39m \u001b[33;03m    \"\"\"\u001b[39;00m\n\u001b[32m---> \u001b[39m\u001b[32m80\u001b[39m     response_dict = \u001b[38;5;28;43mself\u001b[39;49m\u001b[43m.\u001b[49m\u001b[43mrest_client\u001b[49m\u001b[43m.\u001b[49m\u001b[43mget\u001b[49m\u001b[43m(\u001b[49m\u001b[43mpath\u001b[49m\u001b[43m=\u001b[49m\u001b[33;43mf\u001b[39;49m\u001b[33;43m'\u001b[39;49m\u001b[38;5;132;43;01m{\u001b[39;49;00m\u001b[38;5;28;43mself\u001b[39;49m\u001b[43m.\u001b[49m\u001b[43m__PATH\u001b[49m\u001b[38;5;132;43;01m}\u001b[39;49;00m\u001b[33;43m/\u001b[39;49m\u001b[38;5;132;43;01m{\u001b[39;49;00m\u001b[43mresource_group_id\u001b[49m\u001b[38;5;132;43;01m}\u001b[39;49;00m\u001b[33;43m'\u001b[39;49m\u001b[43m)\u001b[49m\n\u001b[32m     81\u001b[39m     \u001b[38;5;28;01mreturn\u001b[39;00m ResourceGroup.from_dict(response_dict)\n",
      "\u001b[36mFile \u001b[39m\u001b[32m~/ProjectsLocal/GitHub/codejam-cap-llm/.venv/lib/python3.12/site-packages/ai_api_client_sdk/helpers/rest_client.py:196\u001b[39m, in \u001b[36mRestClient.get\u001b[39m\u001b[34m(self, path, params, headers, resource_group, return_bytes_content, **kwargs)\u001b[39m\n\u001b[32m    166\u001b[39m \u001b[38;5;28;01mdef\u001b[39;00m\u001b[38;5;250m \u001b[39m\u001b[34mget\u001b[39m(\u001b[38;5;28mself\u001b[39m, path: \u001b[38;5;28mstr\u001b[39m, params: Dict[\u001b[38;5;28mstr\u001b[39m, \u001b[38;5;28mstr\u001b[39m] = \u001b[38;5;28;01mNone\u001b[39;00m, headers: Dict[\u001b[38;5;28mstr\u001b[39m, \u001b[38;5;28mstr\u001b[39m] = \u001b[38;5;28;01mNone\u001b[39;00m,\n\u001b[32m    167\u001b[39m         resource_group: \u001b[38;5;28mstr\u001b[39m = \u001b[38;5;28;01mNone\u001b[39;00m, return_bytes_content: \u001b[38;5;28mbool\u001b[39m = \u001b[38;5;28;01mFalse\u001b[39;00m, **kwargs) -> Union[\u001b[38;5;28mdict\u001b[39m, \u001b[38;5;28mint\u001b[39m]:\n\u001b[32m    168\u001b[39m \u001b[38;5;250m    \u001b[39m\u001b[33;03m\"\"\"Sends a GET request to the server.\u001b[39;00m\n\u001b[32m    169\u001b[39m \n\u001b[32m    170\u001b[39m \u001b[33;03m    :param path: path of the endpoint the request should be sent to\u001b[39;00m\n\u001b[32m   (...)\u001b[39m\u001b[32m    194\u001b[39m \u001b[33;03m    :rtype: Union[dict, int]\u001b[39;00m\n\u001b[32m    195\u001b[39m \u001b[33;03m    \"\"\"\u001b[39;00m\n\u001b[32m--> \u001b[39m\u001b[32m196\u001b[39m     \u001b[38;5;28;01mreturn\u001b[39;00m \u001b[38;5;28;43mself\u001b[39;49m\u001b[43m.\u001b[49m\u001b[43m_handle_request\u001b[49m\u001b[43m(\u001b[49m\u001b[33;43m'\u001b[39;49m\u001b[33;43mget\u001b[39;49m\u001b[33;43m'\u001b[39;49m\u001b[43m,\u001b[49m\u001b[43m \u001b[49m\u001b[43mpath\u001b[49m\u001b[43m=\u001b[49m\u001b[43mpath\u001b[49m\u001b[43m,\u001b[49m\u001b[43m \u001b[49m\u001b[43mparams\u001b[49m\u001b[43m=\u001b[49m\u001b[43mparams\u001b[49m\u001b[43m,\u001b[49m\u001b[43m \u001b[49m\u001b[43mheaders\u001b[49m\u001b[43m=\u001b[49m\u001b[43mheaders\u001b[49m\u001b[43m,\u001b[49m\n\u001b[32m    197\u001b[39m \u001b[43m                                \u001b[49m\u001b[43mresource_group\u001b[49m\u001b[43m=\u001b[49m\u001b[43mresource_group\u001b[49m\u001b[43m,\u001b[49m\u001b[43m \u001b[49m\u001b[43mreturn_bytes_content\u001b[49m\u001b[43m=\u001b[49m\u001b[43mreturn_bytes_content\u001b[49m\u001b[43m,\u001b[49m\u001b[43m \u001b[49m\u001b[43m*\u001b[49m\u001b[43m*\u001b[49m\u001b[43mkwargs\u001b[49m\u001b[43m)\u001b[49m\n",
      "\u001b[36mFile \u001b[39m\u001b[32m~/ProjectsLocal/GitHub/codejam-cap-llm/.venv/lib/python3.12/site-packages/ai_api_client_sdk/helpers/rest_client.py:104\u001b[39m, in \u001b[36mRestClient._handle_request\u001b[39m\u001b[34m(self, method, path, params, body_json, headers, resource_group, return_bytes_content, **kwargs)\u001b[39m\n\u001b[32m    101\u001b[39m     response_json = response.text\n\u001b[32m    103\u001b[39m \u001b[38;5;28;01mif\u001b[39;00m \u001b[38;5;28mtype\u001b[39m(response_json) \u001b[38;5;129;01mis\u001b[39;00m \u001b[38;5;28mdict\u001b[39m \u001b[38;5;129;01mand\u001b[39;00m \u001b[33m'\u001b[39m\u001b[33merror\u001b[39m\u001b[33m'\u001b[39m \u001b[38;5;129;01min\u001b[39;00m response_json:\n\u001b[32m--> \u001b[39m\u001b[32m104\u001b[39m     \u001b[38;5;28;43mself\u001b[39;49m\u001b[43m.\u001b[49m\u001b[43mraise_ai_api_exception\u001b[49m\u001b[43m(\u001b[49m\u001b[43merror_description\u001b[49m\u001b[43m,\u001b[49m\u001b[43m \u001b[49m\u001b[43mresponse\u001b[49m\u001b[43m,\u001b[49m\u001b[43m \u001b[49m\u001b[43mresponse_json\u001b[49m\u001b[43m)\u001b[49m\n\u001b[32m    105\u001b[39m \u001b[38;5;28;01melif\u001b[39;00m response.status_code // \u001b[32m100\u001b[39m != \u001b[32m2\u001b[39m:\n\u001b[32m    106\u001b[39m     \u001b[38;5;28;01mraise\u001b[39;00m AIAPIServerException(description=error_description, error_message=response.text,\n\u001b[32m    107\u001b[39m                                status_code=response.status_code)\n",
      "\u001b[36mFile \u001b[39m\u001b[32m~/ProjectsLocal/GitHub/codejam-cap-llm/.venv/lib/python3.12/site-packages/ai_api_client_sdk/helpers/rest_client.py:124\u001b[39m, in \u001b[36mRestClient.raise_ai_api_exception\u001b[39m\u001b[34m(error_description, response, response_json)\u001b[39m\n\u001b[32m    121\u001b[39m     \u001b[38;5;28;01mraise\u001b[39;00m AIAPIInvalidRequestException(description=error_description, error_message=error_message,\n\u001b[32m    122\u001b[39m                                        error_code=error_code, request_id=request_id, details=error_details)\n\u001b[32m    123\u001b[39m \u001b[38;5;28;01melif\u001b[39;00m status_code == \u001b[32m404\u001b[39m:\n\u001b[32m--> \u001b[39m\u001b[32m124\u001b[39m     \u001b[38;5;28;01mraise\u001b[39;00m AIAPINotFoundException(description=error_description, error_message=error_message,\n\u001b[32m    125\u001b[39m                                  error_code=error_code, request_id=request_id, details=error_details)\n\u001b[32m    126\u001b[39m \u001b[38;5;28;01melif\u001b[39;00m status_code == \u001b[32m412\u001b[39m:\n\u001b[32m    127\u001b[39m     \u001b[38;5;28;01mraise\u001b[39;00m AIAPIPreconditionFailedException(description=error_description, error_message=error_message,\n\u001b[32m    128\u001b[39m                                            error_code=error_code, request_id=request_id,\n\u001b[32m    129\u001b[39m                                            details=error_details)\n",
      "\u001b[31mAIAPINotFoundException\u001b[39m: Failed to get /admin/resourceGroups/zradziejowski: ResourceGroup 'zradziejowski' not found \n Status Code: 404, Request ID:None"
     ]
    }
   ],
   "source": [
    "res_gr_status=client.resource_groups.get(\n",
    "    resource_group_id=resource_groups.resources[-1].resource_group_id\n",
    ")"
   ]
  },
  {
   "cell_type": "code",
   "execution_count": null,
   "id": "f1771f86",
   "metadata": {},
   "outputs": [],
   "source": []
  }
 ],
 "metadata": {
  "kernelspec": {
   "display_name": ".venv",
   "language": "python",
   "name": "python3"
  },
  "language_info": {
   "codemirror_mode": {
    "name": "ipython",
    "version": 3
   },
   "file_extension": ".py",
   "mimetype": "text/x-python",
   "name": "python",
   "nbconvert_exporter": "python",
   "pygments_lexer": "ipython3",
   "version": "3.12.9"
  }
 },
 "nbformat": 4,
 "nbformat_minor": 5
}
